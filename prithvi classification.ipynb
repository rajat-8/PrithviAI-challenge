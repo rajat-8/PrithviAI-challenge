{
 "cells": [
  {
   "cell_type": "code",
   "execution_count": 1,
   "metadata": {},
   "outputs": [],
   "source": [
    "import pandas as pd\n",
    "import numpy\n",
    "import os\n",
    "from sklearn.svm import SVC\n",
    "from sklearn.ensemble import RandomForestClassifier\n",
    "from datetime import datetime\n",
    "from sklearn.metrics import accuracy_score\n",
    "from sklearn.model_selection import train_test_split\n"
   ]
  },
  {
   "cell_type": "code",
   "execution_count": 38,
   "metadata": {},
   "outputs": [],
   "source": [
    "import pickle"
   ]
  },
  {
   "cell_type": "code",
   "execution_count": 2,
   "metadata": {},
   "outputs": [],
   "source": [
    "def process(path_to_folder):\n",
    "    train = []\n",
    "    for root, dirs, files in os.walk(path_to_folder):\n",
    "        for file in files:\n",
    "            if file.endswith('.txt'):\n",
    "                with open(os.path.join(root, file), 'r') as f:\n",
    "                    text = f.read()\n",
    "                    temp = text.split(';\\n')\n",
    "                    final = []\n",
    "                    for i in range (len(temp)):\n",
    "                        a = temp[i].split(',')\n",
    "                        final.append(a)\n",
    "                \n",
    "                    train = train[:] + final\n",
    "                    \n",
    "    return train\n",
    "    "
   ]
  },
  {
   "cell_type": "code",
   "execution_count": 3,
   "metadata": {},
   "outputs": [],
   "source": [
    "trainphoneaccel = process('train/phone/accel')\n",
    "trainphonegyro = process('train/phone/gyro')\n",
    "trainwatchaccel = process('train/watch/accel')\n",
    "trainwatchgyro = process('train/watch/gyro')"
   ]
  },
  {
   "cell_type": "code",
   "execution_count": 4,
   "metadata": {
    "scrolled": false
   },
   "outputs": [
    {
     "data": {
      "text/plain": [
       "[['1600', 'A', '252207666810782', '-0.36476135', '8.793503', '1.0550842'],\n",
       " ['1600', 'A', '252207717164786', '-0.8797302', '9.768784', '1.0169983'],\n",
       " ['1600', 'A', '252207767518790', '2.0014954', '11.10907', '2.619156'],\n",
       " ['1600', 'A', '252207817872794', '0.45062256', '12.651642', '0.18455505'],\n",
       " ['1600', 'A', '252207868226798', '-2.1643524', '13.928436', '-4.4224854'],\n",
       " ['1600', 'A', '252207918580802', '-4.332779', '13.361191', '-0.7188721'],\n",
       " ['1600', 'A', '252207968934806', '-0.31944275', '13.318359', '-0.23202515'],\n",
       " ['1600', 'A', '252208019288809', '1.566452', '9.515274', '-0.01777649'],\n",
       " ['1600', 'A', '252208069642813', '-0.32374573', '5.262665', '0.32234192'],\n",
       " ['1600', 'A', '252208119996817', '-1.811676', '3.7105103', '1.3739319']]"
      ]
     },
     "execution_count": 4,
     "metadata": {},
     "output_type": "execute_result"
    }
   ],
   "source": [
    "trainphoneaccel[:10]"
   ]
  },
  {
   "cell_type": "code",
   "execution_count": 5,
   "metadata": {},
   "outputs": [],
   "source": [
    "train = trainphoneaccel + trainphonegyro + trainwatchaccel + trainwatchgyro"
   ]
  },
  {
   "cell_type": "code",
   "execution_count": 6,
   "metadata": {},
   "outputs": [
    {
     "data": {
      "text/plain": [
       "5575090"
      ]
     },
     "execution_count": 6,
     "metadata": {},
     "output_type": "execute_result"
    }
   ],
   "source": [
    "len(train)"
   ]
  },
  {
   "cell_type": "code",
   "execution_count": 7,
   "metadata": {},
   "outputs": [],
   "source": [
    "def transform(data):\n",
    "    data = data[:-1]\n",
    "    data = pd.DataFrame(data, columns = ['Subject-id', 'Activity Label', 'Timestamp', 'x', 'y', 'z'])\n",
    "    return data"
   ]
  },
  {
   "cell_type": "code",
   "execution_count": 8,
   "metadata": {},
   "outputs": [],
   "source": [
    "train = transform(train)"
   ]
  },
  {
   "cell_type": "code",
   "execution_count": 9,
   "metadata": {},
   "outputs": [
    {
     "data": {
      "text/plain": [
       "(5575089, 6)"
      ]
     },
     "execution_count": 9,
     "metadata": {},
     "output_type": "execute_result"
    }
   ],
   "source": [
    "train.shape"
   ]
  },
  {
   "cell_type": "code",
   "execution_count": 10,
   "metadata": {
    "scrolled": true
   },
   "outputs": [
    {
     "name": "stderr",
     "output_type": "stream",
     "text": [
      "C:\\Users\\naman\\Anaconda3\\lib\\site-packages\\ipykernel_launcher.py:1: FutureWarning: convert_objects is deprecated.  To re-infer data dtypes for object columns, use DataFrame.infer_objects()\n",
      "For all other conversions use the data-type specific converters pd.to_datetime, pd.to_timedelta and pd.to_numeric.\n",
      "  \"\"\"Entry point for launching an IPython kernel.\n"
     ]
    }
   ],
   "source": [
    "train = train.convert_objects(convert_numeric=True)"
   ]
  },
  {
   "cell_type": "code",
   "execution_count": 11,
   "metadata": {},
   "outputs": [
    {
     "data": {
      "text/html": [
       "<div>\n",
       "<style scoped>\n",
       "    .dataframe tbody tr th:only-of-type {\n",
       "        vertical-align: middle;\n",
       "    }\n",
       "\n",
       "    .dataframe tbody tr th {\n",
       "        vertical-align: top;\n",
       "    }\n",
       "\n",
       "    .dataframe thead th {\n",
       "        text-align: right;\n",
       "    }\n",
       "</style>\n",
       "<table border=\"1\" class=\"dataframe\">\n",
       "  <thead>\n",
       "    <tr style=\"text-align: right;\">\n",
       "      <th></th>\n",
       "      <th>Subject-id</th>\n",
       "      <th>Activity Label</th>\n",
       "      <th>Timestamp</th>\n",
       "      <th>x</th>\n",
       "      <th>y</th>\n",
       "      <th>z</th>\n",
       "    </tr>\n",
       "  </thead>\n",
       "  <tbody>\n",
       "    <tr>\n",
       "      <th>0</th>\n",
       "      <td>1600.0</td>\n",
       "      <td>A</td>\n",
       "      <td>2.522077e+14</td>\n",
       "      <td>-0.364761</td>\n",
       "      <td>8.793503</td>\n",
       "      <td>1.055084</td>\n",
       "    </tr>\n",
       "    <tr>\n",
       "      <th>1</th>\n",
       "      <td>1600.0</td>\n",
       "      <td>A</td>\n",
       "      <td>2.522077e+14</td>\n",
       "      <td>-0.879730</td>\n",
       "      <td>9.768784</td>\n",
       "      <td>1.016998</td>\n",
       "    </tr>\n",
       "    <tr>\n",
       "      <th>2</th>\n",
       "      <td>1600.0</td>\n",
       "      <td>A</td>\n",
       "      <td>2.522078e+14</td>\n",
       "      <td>2.001495</td>\n",
       "      <td>11.109070</td>\n",
       "      <td>2.619156</td>\n",
       "    </tr>\n",
       "    <tr>\n",
       "      <th>3</th>\n",
       "      <td>1600.0</td>\n",
       "      <td>A</td>\n",
       "      <td>2.522078e+14</td>\n",
       "      <td>0.450623</td>\n",
       "      <td>12.651642</td>\n",
       "      <td>0.184555</td>\n",
       "    </tr>\n",
       "    <tr>\n",
       "      <th>4</th>\n",
       "      <td>1600.0</td>\n",
       "      <td>A</td>\n",
       "      <td>2.522079e+14</td>\n",
       "      <td>-2.164352</td>\n",
       "      <td>13.928436</td>\n",
       "      <td>-4.422485</td>\n",
       "    </tr>\n",
       "  </tbody>\n",
       "</table>\n",
       "</div>"
      ],
      "text/plain": [
       "   Subject-id Activity Label     Timestamp         x          y         z\n",
       "0      1600.0              A  2.522077e+14 -0.364761   8.793503  1.055084\n",
       "1      1600.0              A  2.522077e+14 -0.879730   9.768784  1.016998\n",
       "2      1600.0              A  2.522078e+14  2.001495  11.109070  2.619156\n",
       "3      1600.0              A  2.522078e+14  0.450623  12.651642  0.184555\n",
       "4      1600.0              A  2.522079e+14 -2.164352  13.928436 -4.422485"
      ]
     },
     "execution_count": 11,
     "metadata": {},
     "output_type": "execute_result"
    }
   ],
   "source": [
    "train.head()"
   ]
  },
  {
   "cell_type": "code",
   "execution_count": 12,
   "metadata": {},
   "outputs": [],
   "source": [
    "train = train.dropna(subset = ['Subject-id','Timestamp', 'Activity Label','x', 'y', 'z'])"
   ]
  },
  {
   "cell_type": "code",
   "execution_count": 13,
   "metadata": {},
   "outputs": [],
   "source": [
    "label = train['Activity Label'].unique()"
   ]
  },
  {
   "cell_type": "code",
   "execution_count": 14,
   "metadata": {},
   "outputs": [],
   "source": [
    "l={}\n",
    "n=0\n",
    "for i in label:\n",
    "    l[i] = n+1\n",
    "    n+=1\n",
    "\n",
    "train['Activity Label'] = train['Activity Label'].apply(lambda x: l[x])"
   ]
  },
  {
   "cell_type": "code",
   "execution_count": 15,
   "metadata": {
    "scrolled": true
   },
   "outputs": [
    {
     "data": {
      "text/html": [
       "<div>\n",
       "<style scoped>\n",
       "    .dataframe tbody tr th:only-of-type {\n",
       "        vertical-align: middle;\n",
       "    }\n",
       "\n",
       "    .dataframe tbody tr th {\n",
       "        vertical-align: top;\n",
       "    }\n",
       "\n",
       "    .dataframe thead th {\n",
       "        text-align: right;\n",
       "    }\n",
       "</style>\n",
       "<table border=\"1\" class=\"dataframe\">\n",
       "  <thead>\n",
       "    <tr style=\"text-align: right;\">\n",
       "      <th></th>\n",
       "      <th>Subject-id</th>\n",
       "      <th>Activity Label</th>\n",
       "      <th>Timestamp</th>\n",
       "      <th>x</th>\n",
       "      <th>y</th>\n",
       "      <th>z</th>\n",
       "    </tr>\n",
       "  </thead>\n",
       "  <tbody>\n",
       "    <tr>\n",
       "      <th>0</th>\n",
       "      <td>1600.0</td>\n",
       "      <td>1</td>\n",
       "      <td>2.522077e+14</td>\n",
       "      <td>-0.364761</td>\n",
       "      <td>8.793503</td>\n",
       "      <td>1.055084</td>\n",
       "    </tr>\n",
       "    <tr>\n",
       "      <th>1</th>\n",
       "      <td>1600.0</td>\n",
       "      <td>1</td>\n",
       "      <td>2.522077e+14</td>\n",
       "      <td>-0.879730</td>\n",
       "      <td>9.768784</td>\n",
       "      <td>1.016998</td>\n",
       "    </tr>\n",
       "    <tr>\n",
       "      <th>2</th>\n",
       "      <td>1600.0</td>\n",
       "      <td>1</td>\n",
       "      <td>2.522078e+14</td>\n",
       "      <td>2.001495</td>\n",
       "      <td>11.109070</td>\n",
       "      <td>2.619156</td>\n",
       "    </tr>\n",
       "    <tr>\n",
       "      <th>3</th>\n",
       "      <td>1600.0</td>\n",
       "      <td>1</td>\n",
       "      <td>2.522078e+14</td>\n",
       "      <td>0.450623</td>\n",
       "      <td>12.651642</td>\n",
       "      <td>0.184555</td>\n",
       "    </tr>\n",
       "    <tr>\n",
       "      <th>4</th>\n",
       "      <td>1600.0</td>\n",
       "      <td>1</td>\n",
       "      <td>2.522079e+14</td>\n",
       "      <td>-2.164352</td>\n",
       "      <td>13.928436</td>\n",
       "      <td>-4.422485</td>\n",
       "    </tr>\n",
       "  </tbody>\n",
       "</table>\n",
       "</div>"
      ],
      "text/plain": [
       "   Subject-id  Activity Label     Timestamp         x          y         z\n",
       "0      1600.0               1  2.522077e+14 -0.364761   8.793503  1.055084\n",
       "1      1600.0               1  2.522077e+14 -0.879730   9.768784  1.016998\n",
       "2      1600.0               1  2.522078e+14  2.001495  11.109070  2.619156\n",
       "3      1600.0               1  2.522078e+14  0.450623  12.651642  0.184555\n",
       "4      1600.0               1  2.522079e+14 -2.164352  13.928436 -4.422485"
      ]
     },
     "execution_count": 15,
     "metadata": {},
     "output_type": "execute_result"
    }
   ],
   "source": [
    "train.head()"
   ]
  },
  {
   "cell_type": "code",
   "execution_count": 16,
   "metadata": {},
   "outputs": [],
   "source": [
    "testphoneaccel = process('test/phone/accel')\n",
    "testphonegyro = process('test/phone/gyro')\n",
    "testwatchaccel = process('test/watch/accel')\n",
    "testwatchgyro = process('test/watch/gyro')"
   ]
  },
  {
   "cell_type": "code",
   "execution_count": 17,
   "metadata": {},
   "outputs": [],
   "source": [
    "test = testphoneaccel + testphonegyro + testwatchaccel + testwatchgyro"
   ]
  },
  {
   "cell_type": "code",
   "execution_count": 18,
   "metadata": {
    "scrolled": true
   },
   "outputs": [],
   "source": [
    "test = transform(test)"
   ]
  },
  {
   "cell_type": "code",
   "execution_count": 19,
   "metadata": {
    "scrolled": true
   },
   "outputs": [
    {
     "name": "stderr",
     "output_type": "stream",
     "text": [
      "C:\\Users\\naman\\Anaconda3\\lib\\site-packages\\ipykernel_launcher.py:1: FutureWarning: convert_objects is deprecated.  To re-infer data dtypes for object columns, use DataFrame.infer_objects()\n",
      "For all other conversions use the data-type specific converters pd.to_datetime, pd.to_timedelta and pd.to_numeric.\n",
      "  \"\"\"Entry point for launching an IPython kernel.\n"
     ]
    }
   ],
   "source": [
    "test = test.convert_objects(convert_numeric=True)"
   ]
  },
  {
   "cell_type": "code",
   "execution_count": 20,
   "metadata": {},
   "outputs": [],
   "source": [
    "test = test.dropna(subset = ['Subject-id','Timestamp', 'Activity Label','x', 'y', 'z'])"
   ]
  },
  {
   "cell_type": "code",
   "execution_count": 21,
   "metadata": {},
   "outputs": [],
   "source": [
    "l={}\n",
    "n=0\n",
    "for i in label:\n",
    "    l[i] = n+1\n",
    "    n+=1\n",
    "\n",
    "test['Activity Label'] = test['Activity Label'].apply(lambda x: l[x])"
   ]
  },
  {
   "cell_type": "code",
   "execution_count": 22,
   "metadata": {},
   "outputs": [],
   "source": [
    "train['Timestamp'] = train['Timestamp'].apply(lambda x: x//1000000)\n",
    "train['Timestamp'] = train['Timestamp'].apply(lambda x: datetime.fromtimestamp(x))\n",
    "test['Timestamp'] = test['Timestamp'].apply(lambda x: x//1000000)\n",
    "test['Timestamp'] = test['Timestamp'].apply(lambda x: datetime.fromtimestamp(x))\n",
    "train.drop(columns=\"Subject-id\",inplace=True)\n",
    "test.drop(columns=\"Subject-id\",inplace=True)"
   ]
  },
  {
   "cell_type": "code",
   "execution_count": 23,
   "metadata": {},
   "outputs": [],
   "source": [
    "for time in ('year','month','week','day','hour','minute','second'):\n",
    "    train[time] = getattr(train['Timestamp'].dt,time)\n",
    "train.drop(columns=\"Timestamp\",inplace=True)\n",
    "\n",
    "for time in ('year','month','week','day','hour','minute','second'):\n",
    "    test[time] = getattr(test['Timestamp'].dt,time)\n",
    "test.drop(columns=\"Timestamp\",inplace=True)"
   ]
  },
  {
   "cell_type": "code",
   "execution_count": 24,
   "metadata": {},
   "outputs": [
    {
     "data": {
      "text/html": [
       "<div>\n",
       "<style scoped>\n",
       "    .dataframe tbody tr th:only-of-type {\n",
       "        vertical-align: middle;\n",
       "    }\n",
       "\n",
       "    .dataframe tbody tr th {\n",
       "        vertical-align: top;\n",
       "    }\n",
       "\n",
       "    .dataframe thead th {\n",
       "        text-align: right;\n",
       "    }\n",
       "</style>\n",
       "<table border=\"1\" class=\"dataframe\">\n",
       "  <thead>\n",
       "    <tr style=\"text-align: right;\">\n",
       "      <th></th>\n",
       "      <th>Activity Label</th>\n",
       "      <th>x</th>\n",
       "      <th>y</th>\n",
       "      <th>z</th>\n",
       "      <th>year</th>\n",
       "      <th>month</th>\n",
       "      <th>week</th>\n",
       "      <th>day</th>\n",
       "      <th>hour</th>\n",
       "      <th>minute</th>\n",
       "      <th>second</th>\n",
       "    </tr>\n",
       "  </thead>\n",
       "  <tbody>\n",
       "    <tr>\n",
       "      <th>0</th>\n",
       "      <td>1</td>\n",
       "      <td>-0.364761</td>\n",
       "      <td>8.793503</td>\n",
       "      <td>1.055084</td>\n",
       "      <td>1977</td>\n",
       "      <td>12</td>\n",
       "      <td>52</td>\n",
       "      <td>29</td>\n",
       "      <td>7</td>\n",
       "      <td>11</td>\n",
       "      <td>6</td>\n",
       "    </tr>\n",
       "    <tr>\n",
       "      <th>1</th>\n",
       "      <td>1</td>\n",
       "      <td>-0.879730</td>\n",
       "      <td>9.768784</td>\n",
       "      <td>1.016998</td>\n",
       "      <td>1977</td>\n",
       "      <td>12</td>\n",
       "      <td>52</td>\n",
       "      <td>29</td>\n",
       "      <td>7</td>\n",
       "      <td>11</td>\n",
       "      <td>57</td>\n",
       "    </tr>\n",
       "    <tr>\n",
       "      <th>2</th>\n",
       "      <td>1</td>\n",
       "      <td>2.001495</td>\n",
       "      <td>11.109070</td>\n",
       "      <td>2.619156</td>\n",
       "      <td>1977</td>\n",
       "      <td>12</td>\n",
       "      <td>52</td>\n",
       "      <td>29</td>\n",
       "      <td>7</td>\n",
       "      <td>12</td>\n",
       "      <td>47</td>\n",
       "    </tr>\n",
       "    <tr>\n",
       "      <th>3</th>\n",
       "      <td>1</td>\n",
       "      <td>0.450623</td>\n",
       "      <td>12.651642</td>\n",
       "      <td>0.184555</td>\n",
       "      <td>1977</td>\n",
       "      <td>12</td>\n",
       "      <td>52</td>\n",
       "      <td>29</td>\n",
       "      <td>7</td>\n",
       "      <td>13</td>\n",
       "      <td>37</td>\n",
       "    </tr>\n",
       "    <tr>\n",
       "      <th>4</th>\n",
       "      <td>1</td>\n",
       "      <td>-2.164352</td>\n",
       "      <td>13.928436</td>\n",
       "      <td>-4.422485</td>\n",
       "      <td>1977</td>\n",
       "      <td>12</td>\n",
       "      <td>52</td>\n",
       "      <td>29</td>\n",
       "      <td>7</td>\n",
       "      <td>14</td>\n",
       "      <td>28</td>\n",
       "    </tr>\n",
       "  </tbody>\n",
       "</table>\n",
       "</div>"
      ],
      "text/plain": [
       "   Activity Label         x          y         z  year  month  week  day  \\\n",
       "0               1 -0.364761   8.793503  1.055084  1977     12    52   29   \n",
       "1               1 -0.879730   9.768784  1.016998  1977     12    52   29   \n",
       "2               1  2.001495  11.109070  2.619156  1977     12    52   29   \n",
       "3               1  0.450623  12.651642  0.184555  1977     12    52   29   \n",
       "4               1 -2.164352  13.928436 -4.422485  1977     12    52   29   \n",
       "\n",
       "   hour  minute  second  \n",
       "0     7      11       6  \n",
       "1     7      11      57  \n",
       "2     7      12      47  \n",
       "3     7      13      37  \n",
       "4     7      14      28  "
      ]
     },
     "execution_count": 24,
     "metadata": {},
     "output_type": "execute_result"
    }
   ],
   "source": [
    "train.head()"
   ]
  },
  {
   "cell_type": "code",
   "execution_count": 25,
   "metadata": {},
   "outputs": [],
   "source": [
    "train = train.sample(frac=1).reset_index(drop=True)\n",
    "test = test.sample(frac=1).reset_index(drop=True)\n",
    "data=pd.DataFrame()\n",
    "data=pd.concat([train,test])"
   ]
  },
  {
   "cell_type": "code",
   "execution_count": 26,
   "metadata": {},
   "outputs": [
    {
     "name": "stderr",
     "output_type": "stream",
     "text": [
      "C:\\Users\\naman\\Anaconda3\\lib\\site-packages\\sklearn\\model_selection\\_split.py:2179: FutureWarning: From version 0.21, test_size will always complement train_size unless both are specified.\n",
      "  FutureWarning)\n"
     ]
    }
   ],
   "source": [
    "y=data[\"Activity Label\"]\n",
    "x=data.drop(columns=\"Activity Label\")\n",
    "x_train, x_test, y_train, y_test = train_test_split(x,y , train_size = 0.7, random_state =  42)"
   ]
  },
  {
   "cell_type": "code",
   "execution_count": 27,
   "metadata": {},
   "outputs": [
    {
     "name": "stderr",
     "output_type": "stream",
     "text": [
      "C:\\Users\\naman\\Anaconda3\\lib\\site-packages\\sklearn\\ensemble\\forest.py:246: FutureWarning: The default value of n_estimators will change from 10 in version 0.20 to 100 in 0.22.\n",
      "  \"10 in version 0.20 to 100 in 0.22.\", FutureWarning)\n"
     ]
    },
    {
     "data": {
      "text/plain": [
       "RandomForestClassifier(bootstrap=True, class_weight=None, criterion='gini',\n",
       "            max_depth=None, max_features='auto', max_leaf_nodes=None,\n",
       "            min_impurity_decrease=0.0, min_impurity_split=None,\n",
       "            min_samples_leaf=1, min_samples_split=2,\n",
       "            min_weight_fraction_leaf=0.0, n_estimators=10, n_jobs=None,\n",
       "            oob_score=False, random_state=None, verbose=0,\n",
       "            warm_start=False)"
      ]
     },
     "execution_count": 27,
     "metadata": {},
     "output_type": "execute_result"
    }
   ],
   "source": [
    "model = RandomForestClassifier()\n",
    "model.fit(x_train, y_train)\n"
   ]
  },
  {
   "cell_type": "code",
   "execution_count": 28,
   "metadata": {},
   "outputs": [],
   "source": [
    "y= model.predict(x_test)\n",
    "acc = accuracy_score(y_test, y)"
   ]
  },
  {
   "cell_type": "code",
   "execution_count": 29,
   "metadata": {
    "scrolled": true
   },
   "outputs": [
    {
     "data": {
      "text/plain": [
       "0.9698770797889041"
      ]
     },
     "execution_count": 29,
     "metadata": {},
     "output_type": "execute_result"
    }
   ],
   "source": [
    "acc"
   ]
  },
  {
   "cell_type": "code",
   "execution_count": 39,
   "metadata": {},
   "outputs": [],
   "source": [
    "filename = 'finalized_model.sav'\n",
    "pickle.dump(model, open(filename, 'wb'))"
   ]
  },
  {
   "cell_type": "code",
   "execution_count": 40,
   "metadata": {
    "scrolled": true
   },
   "outputs": [],
   "source": [
    "df = pd.DataFrame(y)"
   ]
  },
  {
   "cell_type": "code",
   "execution_count": 42,
   "metadata": {},
   "outputs": [],
   "source": [
    "df.to_csv('answer.csv')"
   ]
  },
  {
   "cell_type": "code",
   "execution_count": null,
   "metadata": {},
   "outputs": [],
   "source": []
  }
 ],
 "metadata": {
  "kernelspec": {
   "display_name": "Python 3",
   "language": "python",
   "name": "python3"
  },
  "language_info": {
   "codemirror_mode": {
    "name": "ipython",
    "version": 3
   },
   "file_extension": ".py",
   "mimetype": "text/x-python",
   "name": "python",
   "nbconvert_exporter": "python",
   "pygments_lexer": "ipython3",
   "version": "3.7.3"
  }
 },
 "nbformat": 4,
 "nbformat_minor": 2
}
